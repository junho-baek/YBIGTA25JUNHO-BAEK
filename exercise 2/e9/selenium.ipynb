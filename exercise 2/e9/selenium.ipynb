{
 "cells": [
  {
   "cell_type": "code",
   "execution_count": 4,
   "metadata": {},
   "outputs": [],
   "source": [
    "from bs4 import BeautifulSoup\n",
    "from urllib.request import urlopen"
   ]
  },
  {
   "cell_type": "code",
   "execution_count": 5,
   "metadata": {},
   "outputs": [
    {
     "data": {
      "text/plain": [
       "b'<html>\\n\\n<head>\\n    <title>Hello</title>\\n    <link rel=\"stylesheet\" type=\"text/css\" href=\"static/styles.css\" />\\n    <script src=\"static/script.js\" defer></script>\\n</head>\\n\\n<body>\\n    <h1>Welcome to my blog!</h1>\\n    <div id=\"article-container\"></div>\\n    <div id=\"button-container\" class=\"foo bar\"></div>\\n</body>\\n\\n</html>'"
      ]
     },
     "execution_count": 5,
     "metadata": {},
     "output_type": "execute_result"
    }
   ],
   "source": [
    "URL = \"http://127.0.0.1:8000\"\n",
    "\n",
    "res = urlopen(URL)\n",
    "body = res.read()\n",
    "body"
   ]
  },
  {
   "cell_type": "code",
   "execution_count": 6,
   "metadata": {},
   "outputs": [
    {
     "data": {
      "text/plain": [
       "<html>\n",
       "<head>\n",
       "<title>Hello</title>\n",
       "<link href=\"static/styles.css\" rel=\"stylesheet\" type=\"text/css\"/>\n",
       "<script defer=\"\" src=\"static/script.js\"></script>\n",
       "</head>\n",
       "<body>\n",
       "<h1>Welcome to my blog!</h1>\n",
       "<div id=\"article-container\"></div>\n",
       "<div class=\"foo bar\" id=\"button-container\"></div>\n",
       "</body>\n",
       "</html>"
      ]
     },
     "execution_count": 6,
     "metadata": {},
     "output_type": "execute_result"
    }
   ],
   "source": [
    "BeautifulSoup(body)"
   ]
  }
 ],
 "metadata": {
  "kernelspec": {
   "display_name": "pt",
   "language": "python",
   "name": "pt"
  },
  "language_info": {
   "codemirror_mode": {
    "name": "ipython",
    "version": 3
   },
   "file_extension": ".py",
   "mimetype": "text/x-python",
   "name": "python",
   "nbconvert_exporter": "python",
   "pygments_lexer": "ipython3",
   "version": "3.11.5"
  }
 },
 "nbformat": 4,
 "nbformat_minor": 2
}
